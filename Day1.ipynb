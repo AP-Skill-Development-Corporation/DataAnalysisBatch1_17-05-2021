{
 "cells": [
  {
   "cell_type": "raw",
   "id": "f174848e",
   "metadata": {},
   "source": [
    "Two modes\n",
    "1.markdown----->m\n",
    "2.code------>y\n",
    "3.To run the cell----->Shift+enter"
   ]
  },
  {
   "cell_type": "markdown",
   "id": "9db31496",
   "metadata": {},
   "source": [
    "# This is a heading\n",
    "## Welcome to the Data Analysis Workshop\n",
    "### Day1 \n",
    "#### Introduction to data and types of data\n",
    "##### Jupyter\n",
    "###### Anaconda"
   ]
  },
  {
   "cell_type": "markdown",
   "id": "a1ee2242",
   "metadata": {},
   "source": [
    "**This is bold**    \n",
    "*This is italic*  \n",
    "***bold and italic***  "
   ]
  },
  {
   "cell_type": "markdown",
   "id": "127321a1",
   "metadata": {},
   "source": [
    "##### Unordered list\n",
    "- Engineering colleges\n",
    "    + KITS\n",
    "    * KLU\n",
    "    * SRM\n",
    "    - RGM\n",
    "\n",
    "+ Degree colleges\n"
   ]
  },
  {
   "cell_type": "markdown",
   "id": "0125306e",
   "metadata": {},
   "source": [
    "##### Ordered list\n",
    "1. Numpy\n",
    "2. Pandas  \n",
    "    a. series  \n",
    "    b. dataframe  \n",
    "3. Matplotlib"
   ]
  },
  {
   "cell_type": "markdown",
   "id": "a159ce0e",
   "metadata": {},
   "source": [
    "### link\n",
    "[click here]('www.gmail.com')"
   ]
  },
  {
   "cell_type": "markdown",
   "id": "d7a0890e",
   "metadata": {},
   "source": [
    "### Image\n",
    "![image](https://www.dataoptimal.com/wp-content/uploads/python-programming-for-beginners-2019.jpg)"
   ]
  },
  {
   "cell_type": "code",
   "execution_count": null,
   "id": "ba64612d",
   "metadata": {},
   "outputs": [],
   "source": []
  }
 ],
 "metadata": {
  "kernelspec": {
   "display_name": "Python 3",
   "language": "python",
   "name": "python3"
  },
  "language_info": {
   "codemirror_mode": {
    "name": "ipython",
    "version": 3
   },
   "file_extension": ".py",
   "mimetype": "text/x-python",
   "name": "python",
   "nbconvert_exporter": "python",
   "pygments_lexer": "ipython3",
   "version": "3.8.8"
  }
 },
 "nbformat": 4,
 "nbformat_minor": 5
}
